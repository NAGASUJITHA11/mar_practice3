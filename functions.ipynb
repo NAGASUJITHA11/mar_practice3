{
 "cells": [
  {
   "cell_type": "markdown",
   "id": "a2352ea9-ff0b-4849-a742-8cae3193ed8d",
   "metadata": {},
   "source": [
    "## Function\n",
    "\n",
    "- Reuse of the code block\n",
    "\n",
    "- Function also called as method\n",
    "\n",
    "- different types of concepts:\n",
    "    - function with out arguments\n",
    "    - function with arguments\n",
    "    - function with default arguments\n",
    "    - function with keyword arguments (kwargs)\n",
    "    - function with global and local variable\n",
    "    - function with return\n",
    "    - function in function\n"
   ]
  },
  {
   "cell_type": "code",
   "execution_count": null,
   "id": "9098f033-3f2d-45b2-a26b-39a2cfbca086",
   "metadata": {},
   "outputs": [],
   "source": [
    "income=eval(input('enter the income:'))\n",
    "tax=eval(input('enter the tax percentage:'))\n",
    "tax_pay=income*tax/100\n",
    "print(tax_pay)\n",
    "\n",
    "\n",
    "# 4"
   ]
  },
  {
   "cell_type": "markdown",
   "id": "ac8e3b1f-eb12-4d5e-8419-1c4b0c68234f",
   "metadata": {},
   "source": [
    "**Functions with out arguments:**\n",
    "\n"
   ]
  },
  {
   "cell_type": "code",
   "execution_count": null,
   "id": "c964ac88-5c58-479d-8b1e-521455b8b871",
   "metadata": {},
   "outputs": [],
   "source": [
    "# syntax\n",
    "def <function name>():\n",
    "    <write your lines here>\n",
    "\n",
    "# rule1: function name should not be equal to any variable in that pgm"
   ]
  },
  {
   "cell_type": "code",
   "execution_count": 6,
   "id": "dbf2ec56-8658-4d48-aacd-a63f23079e53",
   "metadata": {},
   "outputs": [
    {
     "name": "stdin",
     "output_type": "stream",
     "text": [
      "enter number1: 100\n",
      "enter number2: 200\n"
     ]
    },
    {
     "name": "stdout",
     "output_type": "stream",
     "text": [
      "the addition of 100 and 200 is : 300\n"
     ]
    }
   ],
   "source": [
    "num1=eval(input('enter number1:'))\n",
    "num2=eval(input('enter number2:'))\n",
    "add=num1+num2\n",
    "print(f'the addition of {num1} and {num2} is : {add}')"
   ]
  },
  {
   "cell_type": "code",
   "execution_count": 13,
   "id": "30bd3872-5423-4f43-ba28-6faf2da5b988",
   "metadata": {},
   "outputs": [],
   "source": [
    "def addition():\n",
    "    num1=eval(input('enter number1:'))\n",
    "    num2=eval(input('enter number2:'))\n",
    "    add=num1+num2\n",
    "    print(f'the addition of {num1} and {num2} is : {add}')"
   ]
  },
  {
   "cell_type": "markdown",
   "id": "83fff5b3-07d7-48f8-94e2-54d657e5a29b",
   "metadata": {},
   "source": [
    "**call the function**"
   ]
  },
  {
   "cell_type": "code",
   "execution_count": 17,
   "id": "6fad7b16-5e91-42d6-9050-3ad37297bd71",
   "metadata": {},
   "outputs": [
    {
     "data": {
      "text/plain": [
       "<function __main__.addition()>"
      ]
     },
     "execution_count": 17,
     "metadata": {},
     "output_type": "execute_result"
    }
   ],
   "source": [
    "addition"
   ]
  },
  {
   "cell_type": "code",
   "execution_count": 19,
   "id": "ea1ff761-956a-45e9-9fa9-2db44502197a",
   "metadata": {},
   "outputs": [
    {
     "name": "stdin",
     "output_type": "stream",
     "text": [
      "enter number1: 100\n",
      "enter number2: 10\n"
     ]
    },
    {
     "name": "stdout",
     "output_type": "stream",
     "text": [
      "the addition of 100 and 10 is : 110\n"
     ]
    }
   ],
   "source": [
    "addition()"
   ]
  },
  {
   "cell_type": "code",
   "execution_count": 21,
   "id": "5d2f8e60-250a-440c-b465-cd318093e64e",
   "metadata": {},
   "outputs": [
    {
     "data": {
      "text/plain": [
       "<bound method Random.randint of <random.Random object at 0x000002261C3E9FE0>>"
      ]
     },
     "execution_count": 21,
     "metadata": {},
     "output_type": "execute_result"
    }
   ],
   "source": [
    "import random\n",
    "random.randint"
   ]
  },
  {
   "cell_type": "code",
   "execution_count": 37,
   "id": "4ad583a6-aee5-4597-b3ad-76ea46a260b2",
   "metadata": {},
   "outputs": [
    {
     "name": "stdin",
     "output_type": "stream",
     "text": [
      "enter number1: 50\n",
      "enter number2: 50\n"
     ]
    },
    {
     "name": "stdout",
     "output_type": "stream",
     "text": [
      "the addition of 50 and 50 is : 100\n"
     ]
    }
   ],
   "source": [
    "def addition():\n",
    "    num1=eval(input('enter number1:'))\n",
    "    num2=eval(input('enter number2:'))\n",
    "    add=num1+num2\n",
    "    print(f'the addition of {num1} and {num2} is : {add}')\n",
    "\n",
    "addition()"
   ]
  },
  {
   "cell_type": "code",
   "execution_count": 48,
   "id": "5d8435df-7513-4e4a-979e-0fa7cdb3c72a",
   "metadata": {},
   "outputs": [
    {
     "name": "stdin",
     "output_type": "stream",
     "text": [
      "enter number1: 100\n",
      "enter number2: 10\n"
     ]
    },
    {
     "name": "stdout",
     "output_type": "stream",
     "text": [
      "addition of 100 and 10 is: 110\n"
     ]
    }
   ],
   "source": [
    "def additon():\n",
    "    a=eval(input('enter number1:'))\n",
    "    b=eval(input('enter number2:'))\n",
    "    addt=a+b\n",
    "    print(f\"addition of {a} and {b} is: {addt}\")\n",
    "additon()"
   ]
  },
  {
   "cell_type": "markdown",
   "id": "925ecda0-2785-4966-8767-5f72a5ad966a",
   "metadata": {},
   "source": [
    "**note:**\n",
    "- function name rules same as variable rules\n",
    "    - no special characters\n",
    "    - no numbers before\n",
    "    - no space between words etc\n",
    "\n",
    "- function name should not be any keywords\n",
    "\n",
    "- function name should not be any package names\n",
    "\n",
    "- function name should not be your notebook name\n",
    "\n",
    "- function name should not be any variable which is using inside that function"
   ]
  },
  {
   "cell_type": "code",
   "execution_count": 44,
   "id": "76ceb8d3-a684-4a19-ba67-09f4b9216908",
   "metadata": {},
   "outputs": [],
   "source": [
    "def addition1():\n",
    "    n1=eval(input('enter number1:'))\n",
    "    n2=eval(input('enter number2:'))\n",
    "    add1=n1+n2\n",
    "    print(f'the addition of {n1} and {n2} is : {add1}')"
   ]
  },
  {
   "cell_type": "markdown",
   "id": "1063fc65-eb7b-4697-b1b2-877e5df5e940",
   "metadata": {},
   "source": [
    "- while define the function we does not know whether the error is there or not\n",
    "- for that we need to call the function\n"
   ]
  },
  {
   "cell_type": "code",
   "execution_count": 50,
   "id": "0a109471-2749-4068-8bd6-67463c24f7b9",
   "metadata": {},
   "outputs": [
    {
     "name": "stdin",
     "output_type": "stream",
     "text": [
      "enter number1: 100\n",
      "enter number2: 200\n"
     ]
    },
    {
     "name": "stdout",
     "output_type": "stream",
     "text": [
      "the addition of 100 and 200 is : 300\n"
     ]
    }
   ],
   "source": [
    "try:\n",
    "    def addition2():\n",
    "        num1=eval(input('enter number1:'))\n",
    "        num2=eval(input('enter number2:'))\n",
    "        add2=num1+num2\n",
    "        print(f'the addition of {num1} and {num2} is : {add2}')\n",
    "except Exception as e:\n",
    "    print(e)\n",
    "\n",
    "addition2()"
   ]
  },
  {
   "cell_type": "code",
   "execution_count": 52,
   "id": "cbd36fb7-750e-492c-af79-20d452eae35b",
   "metadata": {},
   "outputs": [
    {
     "name": "stdin",
     "output_type": "stream",
     "text": [
      "enter number1: 100\n",
      "enter number2: 200\n"
     ]
    },
    {
     "name": "stdout",
     "output_type": "stream",
     "text": [
      "the addition of 100 and 200 is : 300\n"
     ]
    }
   ],
   "source": [
    "def addition3():\n",
    "    try: \n",
    "        num1=eval(input('enter number1:'))\n",
    "        num2=eval(input('enter number2:'))\n",
    "        add3=num1+num2\n",
    "        print(f'the addition of {num1} and {num2} is : {add3}')\n",
    "    except Exception as e:\n",
    "        print(e)\n",
    "\n",
    "addition3()"
   ]
  },
  {
   "cell_type": "markdown",
   "id": "48984276-16a5-4bc0-9a2d-2066495358fc",
   "metadata": {},
   "source": [
    "- try-except should write inside the function"
   ]
  },
  {
   "cell_type": "code",
   "execution_count": null,
   "id": "aaf9c71f-e482-4cc1-9dd7-d968f56b34c7",
   "metadata": {},
   "outputs": [],
   "source": [
    "# 1)wap ask the user enter 3 numbers n1,n2,n3 from ketboard\n",
    "# calculate average\n",
    "\n",
    "# 2)wap ask the user enter name age city\n",
    "# print my name is python im 10 years old and came from hyd\n",
    "\n",
    "# 3)wap ask the user to enter radidus of a circle calculate area of the circle\n",
    "# var: radidus  var: pi=3.14\n",
    "# formuale: pi*radius*radius\n",
    "# print the answers using f string and format\n",
    "\n",
    "# 4)wap ask the user enter breadth and height of a right angle triangle\n",
    "# calculate the area\n",
    "# var1: bredath  var2: height\n",
    "# formuale : 0.5*breadth*heigh\n",
    "\n",
    "# 5)wap ask the user the bill amount and tip amount\n",
    "#   calculate total bill\n",
    "#   var1: bill amount var2: tip amount\n",
    "#   formuale\n",
    "\n",
    "# 6)wap ask the user the bill amount and tip percentage\n",
    "#    take tip percentage as 10\n",
    "#   calculate total bill= bill amount+ bill amount*tip per/100\n",
    "#   var1: bill amount var2: tip amount\n",
    "#    formuale\n",
    "\n",
    "# 7)wap ask the length and breadth of a rectangle calculate area\n",
    "#   var1: length  var2: breadth\n",
    "#   formulae: length * breadth\n",
    "\n",
    "# 8) wap ask the user take the radius and calculate volume of sphere\n",
    "#   formulae: pi*r**3(pi*r*r*r)\n",
    "\n",
    "# 9) wap ask the user enter amount in dollars convert into rupees\n",
    "#     1$=85rs\n",
    "\n",
    "# 10)wap ask the user enter weight in kgs convert into pounds\n",
    "#    1kg= 2.2pounds\n"
   ]
  },
  {
   "cell_type": "code",
   "execution_count": 3,
   "id": "467adad7-6eb6-44bf-8133-b2b478da0ea5",
   "metadata": {},
   "outputs": [
    {
     "name": "stdin",
     "output_type": "stream",
     "text": [
      "enter number1: 25\n",
      "enter number2: 25\n",
      "enter number3: 25\n"
     ]
    },
    {
     "name": "stdout",
     "output_type": "stream",
     "text": [
      "the average of  25 , 25 and 25 is : 25.0\n"
     ]
    }
   ],
   "source": [
    "# 1)wap ask the user enter 3 numbers n1,n2,n3 from ketboard\n",
    "# calculate average\n",
    "def AVG():\n",
    "    n1=eval(input('enter number1:'))\n",
    "    n2=eval(input('enter number2:'))\n",
    "    n3=eval(input('enter number3:'))\n",
    "    avg=(n1+n2+n3)/3\n",
    "    avg1=round(avg,2)\n",
    "    print(f\"the average of  {n1} , {n2} and {n3} is : {avg1}\")\n",
    "\n",
    "AVG()\n"
   ]
  },
  {
   "cell_type": "code",
   "execution_count": 7,
   "id": "e0de0480-ed97-41ad-869c-efef5fc068d7",
   "metadata": {},
   "outputs": [
    {
     "name": "stdin",
     "output_type": "stream",
     "text": [
      "enter the name: python\n",
      "enter the age: 10\n",
      "enter the city: Hyderabad\n"
     ]
    },
    {
     "name": "stdout",
     "output_type": "stream",
     "text": [
      " my name is python iam 10 years old and came from Hyderabad\n"
     ]
    }
   ],
   "source": [
    "# 2)wap ask the user enter name age city\n",
    "# print my name is python im 10 years old and came from hyd\n",
    "\n",
    "def sentence():\n",
    "    name=input('enter the name:')\n",
    "    age=eval(input('enter the age:'))\n",
    "    city=input('enter the city:')\n",
    "    print(f\" my name is {name} iam {age} years old and came from {city}\")\n",
    "\n",
    "sentence()"
   ]
  },
  {
   "cell_type": "code",
   "execution_count": 11,
   "id": "67f05f5f-1699-4922-8991-64b6479585df",
   "metadata": {},
   "outputs": [
    {
     "name": "stdin",
     "output_type": "stream",
     "text": [
      "enter radius of a circle: 10\n"
     ]
    },
    {
     "name": "stdout",
     "output_type": "stream",
     "text": [
      "the area of a circle for radius 10 is : 31.4\n"
     ]
    }
   ],
   "source": [
    "# 3)wap ask the user to enter radidus of a circle calculate area of the circle\n",
    "# var: radidus  var: pi=3.14\n",
    "# formuale: pi*radius*radius\n",
    "# print the answers using f string and format\n",
    "\n",
    "def circlearea():\n",
    "    rad=eval(input('enter radius of a circle:'))\n",
    "    pi=3.14\n",
    "    area=rad*pi\n",
    "    area1=round(area,2)\n",
    "    print(f\"the area of a circle for radius {rad} is : {area1}\")\n",
    "\n",
    "circlearea()"
   ]
  },
  {
   "cell_type": "code",
   "execution_count": 13,
   "id": "1f71b134-5189-4556-9ac1-3d6521fb3e90",
   "metadata": {},
   "outputs": [
    {
     "name": "stdin",
     "output_type": "stream",
     "text": [
      "enter the breadth value: 10\n",
      "enter the height value: 20\n"
     ]
    },
    {
     "name": "stdout",
     "output_type": "stream",
     "text": [
      "the area of a right angle triangle for 10 and 20 is: 100.0\n"
     ]
    }
   ],
   "source": [
    "# 4)wap ask the user enter breadth and height of a right angle triangle\n",
    "# calculate the area\n",
    "# var1: bredath  var2: height\n",
    "# formuale : 0.5*breadth*heigh\n",
    "\n",
    "def RATarea():\n",
    "    bre=eval(input('enter the breadth value:'))\n",
    "    hei=eval(input('enter the height value:'))\n",
    "    area=0.5*bre*hei\n",
    "    area1=round(area,2)\n",
    "    print(f'the area of a right angle triangle for {bre} and {hei} is: {area1}')\n",
    "\n",
    "RATarea()"
   ]
  },
  {
   "cell_type": "code",
   "execution_count": 15,
   "id": "73f2349d-b6ce-4840-8edd-0c74563bd1bd",
   "metadata": {},
   "outputs": [
    {
     "name": "stdin",
     "output_type": "stream",
     "text": [
      "enter bill amount: 500\n",
      "enter tip amount: 100\n"
     ]
    },
    {
     "name": "stdout",
     "output_type": "stream",
     "text": [
      "total bill for 500 and 100 is : 600\n"
     ]
    }
   ],
   "source": [
    "# 5)wap ask the user the bill amount and tip amount\n",
    "#   calculate total bill\n",
    "#   var1: bill amount var2: tip amount\n",
    "#   formuale\n",
    "\n",
    "def totalbill():\n",
    "    bill_amt=eval(input('enter bill amount:'))\n",
    "    tip_amt=eval(input('enter tip amount:'))\n",
    "    total_bill=bill_amt+tip_amt\n",
    "    print(f'total bill for {bill_amt} and {tip_amt} is : {total_bill}')\n",
    "\n",
    "totalbill()\n"
   ]
  },
  {
   "cell_type": "code",
   "execution_count": 17,
   "id": "2ba0535c-d763-4b8f-bbbc-f7c731a10411",
   "metadata": {},
   "outputs": [
    {
     "name": "stdin",
     "output_type": "stream",
     "text": [
      "enter bill amount: 100\n"
     ]
    },
    {
     "name": "stdout",
     "output_type": "stream",
     "text": [
      "the total bill for 100 and 10 is : 110.0\n"
     ]
    }
   ],
   "source": [
    "# 6)wap ask the user the bill amount and tip percentage\n",
    "#    take tip percentage as 10\n",
    "#   calculate total bill= bill amount+ bill amount*tip per/100\n",
    "#   var1: bill amount var2: tip amount\n",
    "#    formuale\n",
    "\n",
    "def totalbilltipper():\n",
    "    bill_amt=eval(input('enter bill amount:'))\n",
    "    tip_per=10\n",
    "    total_bill=bill_amt+bill_amt*tip_per/100\n",
    "    print(f\"the total bill for {bill_amt} and {tip_per} is : {total_bill}\")\n",
    "\n",
    "totalbilltipper()\n"
   ]
  },
  {
   "cell_type": "code",
   "execution_count": 19,
   "id": "9d26ac99-a0f9-4cf1-8500-3217bcccb892",
   "metadata": {},
   "outputs": [
    {
     "name": "stdin",
     "output_type": "stream",
     "text": [
      "enter length of a rectangle: 25\n",
      "enter breadth of a rectangle: 10\n"
     ]
    },
    {
     "name": "stdout",
     "output_type": "stream",
     "text": [
      "the area of a rectangle for 25 and 10 is : 250\n"
     ]
    }
   ],
   "source": [
    "# 7)wap ask the length and breadth of a rectangle calculate area\n",
    "#   var1: length  var2: breadth\n",
    "#   formulae: length * breadth\n",
    "\n",
    "def rectanglearea():\n",
    "    leng=eval(input('enter length of a rectangle:'))\n",
    "    bre=eval(input('enter breadth of a rectangle:'))\n",
    "    area=leng*bre\n",
    "    area1=round(area,2)\n",
    "    print(f\"the area of a rectangle for {leng} and {bre} is : {area1}\")\n",
    "\n",
    "rectanglearea()"
   ]
  },
  {
   "cell_type": "code",
   "execution_count": 23,
   "id": "60df7868-ca84-484e-88fb-70e544e5eea1",
   "metadata": {},
   "outputs": [
    {
     "name": "stdin",
     "output_type": "stream",
     "text": [
      "enter radius of a sphere: 2\n"
     ]
    },
    {
     "name": "stdout",
     "output_type": "stream",
     "text": [
      "the volume of a sphere for radius 2 is : 25.12\n"
     ]
    }
   ],
   "source": [
    "# 8) wap ask the user take the radius and calculate volume of sphere\n",
    "#   formulae: pi*r**3(pi*r*r*r)\n",
    "\n",
    "def spherevolume():\n",
    "    rad=eval(input('enter radius of a sphere:'))\n",
    "    pi=3.14\n",
    "    vol=pi*rad*rad*rad\n",
    "    vol1=round(vol,2)\n",
    "    print(f\"the volume of a sphere for radius {rad} is : {vol}\")\n",
    "\n",
    "spherevolume()"
   ]
  },
  {
   "cell_type": "code",
   "execution_count": 27,
   "id": "be3e16d6-c1d4-42c7-94f4-7c3e6babeaae",
   "metadata": {},
   "outputs": [
    {
     "name": "stdin",
     "output_type": "stream",
     "text": [
      "enter the amount in dollars: 5\n"
     ]
    },
    {
     "name": "stdout",
     "output_type": "stream",
     "text": [
      "the amount for dollars 5$ in rupees is : 425INR\n"
     ]
    }
   ],
   "source": [
    "# 9)wap ask the user enter amount in dollars and convert into rupees\n",
    "#   1$=85rs\n",
    "\n",
    "def amount():\n",
    "    dol=eval(input(\"enter the amount in dollars:\"))\n",
    "    rupees=dol*85\n",
    "    rup=round(rupees,2)\n",
    "    print(f'the amount for dollars {dol}$ in rupees is : {rup}INR')\n",
    "\n",
    "amount()\n"
   ]
  },
  {
   "cell_type": "code",
   "execution_count": 29,
   "id": "28c3d1fd-113a-47a2-bd96-4ad4b2aa2a54",
   "metadata": {},
   "outputs": [
    {
     "name": "stdin",
     "output_type": "stream",
     "text": [
      "enter weight in kgs: 20\n"
     ]
    },
    {
     "name": "stdout",
     "output_type": "stream",
     "text": [
      "weight in pounds for weight 20 is : 44.0\n"
     ]
    }
   ],
   "source": [
    "# 10)wap ask the user enter weight in kgs convert into pounds\n",
    "#    1kg=2.2pounds\n",
    "\n",
    "def weight():\n",
    "    wt=eval(input(\"enter weight in kgs:\"))    \n",
    "    pound=wt*2.2\n",
    "    pound1=round(pound,2)\n",
    "    print('weight in pounds for weight {} is : {}'.format(wt,pound1))\n",
    "\n",
    "weight()\n"
   ]
  },
  {
   "cell_type": "code",
   "execution_count": 31,
   "id": "d507a087-e662-4626-a136-3cbca0125015",
   "metadata": {},
   "outputs": [
    {
     "name": "stdin",
     "output_type": "stream",
     "text": [
      "enter number1: 25\n",
      "enter number2: 25\n",
      "enter number3: 25\n"
     ]
    },
    {
     "name": "stdout",
     "output_type": "stream",
     "text": [
      "the average of  25 , 25 and 25 is : 25.0\n"
     ]
    },
    {
     "name": "stdin",
     "output_type": "stream",
     "text": [
      "enter the name: python\n",
      "enter the age: 10\n",
      "enter the city: Hyderabad\n"
     ]
    },
    {
     "name": "stdout",
     "output_type": "stream",
     "text": [
      " my name is python iam 10 years old and came from Hyderabad\n"
     ]
    },
    {
     "name": "stdin",
     "output_type": "stream",
     "text": [
      "enter weight in kgs: 25\n"
     ]
    },
    {
     "name": "stdout",
     "output_type": "stream",
     "text": [
      "weight in pounds for weight 25 is : 55.0\n"
     ]
    },
    {
     "name": "stdin",
     "output_type": "stream",
     "text": [
      "enter the breadth value: 25\n",
      "enter the height value: 21\n"
     ]
    },
    {
     "name": "stdout",
     "output_type": "stream",
     "text": [
      "the area of a right angle triangle for 25 and 21 is: 262.5\n"
     ]
    },
    {
     "name": "stdin",
     "output_type": "stream",
     "text": [
      "enter radius of a circle: 5\n"
     ]
    },
    {
     "name": "stdout",
     "output_type": "stream",
     "text": [
      "the area of a circle for radius 5 is : 15.7\n"
     ]
    },
    {
     "name": "stdin",
     "output_type": "stream",
     "text": [
      "enter the amount in dollars: 6\n"
     ]
    },
    {
     "name": "stdout",
     "output_type": "stream",
     "text": [
      "the amount for dollars 6$ in rupees is : 510INR\n"
     ]
    },
    {
     "name": "stdin",
     "output_type": "stream",
     "text": [
      "enter radius of a sphere: 5\n"
     ]
    },
    {
     "name": "stdout",
     "output_type": "stream",
     "text": [
      "the volume of a sphere for radius 5 is : 392.5\n"
     ]
    },
    {
     "name": "stdin",
     "output_type": "stream",
     "text": [
      "enter length of a rectangle: 10\n",
      "enter breadth of a rectangle: 20\n"
     ]
    },
    {
     "name": "stdout",
     "output_type": "stream",
     "text": [
      "the area of a rectangle for 10 and 20 is : 200\n"
     ]
    },
    {
     "name": "stdin",
     "output_type": "stream",
     "text": [
      "enter bill amount: 100\n",
      "enter tip amount: 10\n"
     ]
    },
    {
     "name": "stdout",
     "output_type": "stream",
     "text": [
      "total bill for 100 and 10 is : 110\n"
     ]
    },
    {
     "name": "stdin",
     "output_type": "stream",
     "text": [
      "enter bill amount: 100\n"
     ]
    },
    {
     "name": "stdout",
     "output_type": "stream",
     "text": [
      "the total bill for 100 and 10 is : 110.0\n"
     ]
    }
   ],
   "source": [
    "AVG()\n",
    "sentence()\n",
    "weight()\n",
    "RATarea()\n",
    "circlearea()\n",
    "amount()\n",
    "spherevolume()\n",
    "rectanglearea()\n",
    "totalbill()\n",
    "totalbilltipper()"
   ]
  },
  {
   "cell_type": "markdown",
   "id": "9f8900d7-e630-48f4-9261-c2f1034b9c85",
   "metadata": {},
   "source": [
    "**Functions with arguments**"
   ]
  },
  {
   "cell_type": "code",
   "execution_count": null,
   "id": "073061cc-236f-47d9-b931-5aff1f06e086",
   "metadata": {},
   "outputs": [],
   "source": [
    "def AVG():\n",
    "    n1=eval(input('enter number1:'))\n",
    "    n2=eval(input('enter number2:'))\n",
    "    n3=eval(input('enter number3:'))\n",
    "    avg=(n1+n2+n3)/3\n",
    "    avg1=round(avg,2)\n",
    "    print(f\"the average of  {n1} , {n2} and {n3} is : {avg1}\")\n",
    "\n",
    "AVG()\n"
   ]
  },
  {
   "cell_type": "code",
   "execution_count": null,
   "id": "e96b5dfa-ccc6-4ac8-b72e-d9a2d52ccd88",
   "metadata": {},
   "outputs": [],
   "source": [
    "def addition():\n",
    "    n1=eval(input('enter num1:'))\n",
    "    n2=eval(input('enter num2:'))\n",
    "    add=n1+n2\n",
    "    print(f'the sum of {n1} and {n2} is : {add}')\n",
    "    \n",
    "addition()"
   ]
  },
  {
   "cell_type": "markdown",
   "id": "c2ce5af4-0dbc-48d5-b2e1-4da3b51a4c84",
   "metadata": {},
   "source": [
    "- 1. how many variables are there inside the function\n",
    "        - in above addition function 3 variables are there: n1,n2,add\n",
    "- 2. how many input variables are there\n",
    "        - input variables means the variable access the values from user as input\n",
    "- 3. how many output variables are there\n",
    "        - output variables means the variable created because of some operations : **add**\n",
    "\n",
    "- **dont touch the output variable**"
   ]
  },
  {
   "cell_type": "code",
   "execution_count": null,
   "id": "e2178e08-4bdd-4612-a1e0-180b1118a683",
   "metadata": {},
   "outputs": [],
   "source": [
    "addition(<>)   functions with out arguments"
   ]
  },
  {
   "cell_type": "code",
   "execution_count": 5,
   "id": "69cbb517-e26e-464b-9dac-94794d430a9e",
   "metadata": {},
   "outputs": [],
   "source": [
    "from random import randint"
   ]
  },
  {
   "cell_type": "code",
   "execution_count": 15,
   "id": "f9380691-081c-4ce9-a32c-eefb980941be",
   "metadata": {},
   "outputs": [
    {
     "name": "stdout",
     "output_type": "stream",
     "text": [
      "the sum of 100 and 200 is : 300\n"
     ]
    }
   ],
   "source": [
    "def addition1(n1,n2):\n",
    "    add=n1+n2\n",
    "    print(f'the sum of {n1} and {n2} is : {add}')\n",
    "    \n",
    "addition1(100,200)"
   ]
  },
  {
   "cell_type": "code",
   "execution_count": 21,
   "id": "2bcf10aa-4bab-49b5-860e-74a3a7deca44",
   "metadata": {},
   "outputs": [
    {
     "ename": "TypeError",
     "evalue": "Random.randint() missing 2 required positional arguments: 'a' and 'b'",
     "output_type": "error",
     "traceback": [
      "\u001b[1;31m---------------------------------------------------------------------------\u001b[0m",
      "\u001b[1;31mTypeError\u001b[0m                                 Traceback (most recent call last)",
      "Cell \u001b[1;32mIn[21], line 2\u001b[0m\n\u001b[0;32m      1\u001b[0m \u001b[38;5;28;01mimport\u001b[39;00m \u001b[38;5;21;01mrandom\u001b[39;00m\n\u001b[1;32m----> 2\u001b[0m random\u001b[38;5;241m.\u001b[39mrandint()\n",
      "\u001b[1;31mTypeError\u001b[0m: Random.randint() missing 2 required positional arguments: 'a' and 'b'"
     ]
    }
   ],
   "source": [
    "frimport randint"
   ]
  },
  {
   "cell_type": "code",
   "execution_count": 23,
   "id": "ce833b30-c5ac-4c25-9bc6-27406caa8a13",
   "metadata": {},
   "outputs": [],
   "source": [
    "def addition1(n1,n2):\n",
    "    print('n1:',n1)\n",
    "    print('n2:',n2)\n",
    "    add=n1+n2\n",
    "    print(f'the sum of {n1} and {n2} is : {add}')"
   ]
  },
  {
   "cell_type": "code",
   "execution_count": 27,
   "id": "010483d0-0a41-49e0-9e7e-82993e04237e",
   "metadata": {},
   "outputs": [
    {
     "name": "stdout",
     "output_type": "stream",
     "text": [
      "n1: 1000\n",
      "n2: 2000\n",
      "the sum of 1000 and 2000 is : 3000\n"
     ]
    }
   ],
   "source": [
    "addition1(1000,2000)"
   ]
  },
  {
   "cell_type": "code",
   "execution_count": 9,
   "id": "f444ae44-87d0-41a5-9423-6d61936f577c",
   "metadata": {},
   "outputs": [],
   "source": [
    "def addition2(n1):\n",
    "    add=n1+n2\n",
    "    print(f'the sum of {n1} and {n2} is : {add}')\n",
    "    \n"
   ]
  },
  {
   "cell_type": "code",
   "execution_count": 11,
   "id": "25af1c4f-fa28-4619-b4a1-a8ee61a9332a",
   "metadata": {},
   "outputs": [
    {
     "ename": "NameError",
     "evalue": "name 'n2' is not defined",
     "output_type": "error",
     "traceback": [
      "\u001b[1;31m---------------------------------------------------------------------------\u001b[0m",
      "\u001b[1;31mNameError\u001b[0m                                 Traceback (most recent call last)",
      "Cell \u001b[1;32mIn[11], line 1\u001b[0m\n\u001b[1;32m----> 1\u001b[0m addition2(\u001b[38;5;241m20\u001b[39m)\n",
      "Cell \u001b[1;32mIn[9], line 2\u001b[0m, in \u001b[0;36maddition2\u001b[1;34m(n1)\u001b[0m\n\u001b[0;32m      1\u001b[0m \u001b[38;5;28;01mdef\u001b[39;00m \u001b[38;5;21maddition2\u001b[39m(n1):\n\u001b[1;32m----> 2\u001b[0m     add\u001b[38;5;241m=\u001b[39mn1\u001b[38;5;241m+\u001b[39mn2\n\u001b[0;32m      3\u001b[0m     \u001b[38;5;28mprint\u001b[39m(\u001b[38;5;124mf\u001b[39m\u001b[38;5;124m'\u001b[39m\u001b[38;5;124mthe sum of \u001b[39m\u001b[38;5;132;01m{\u001b[39;00mn1\u001b[38;5;132;01m}\u001b[39;00m\u001b[38;5;124m and \u001b[39m\u001b[38;5;132;01m{\u001b[39;00mn2\u001b[38;5;132;01m}\u001b[39;00m\u001b[38;5;124m is : \u001b[39m\u001b[38;5;132;01m{\u001b[39;00madd\u001b[38;5;132;01m}\u001b[39;00m\u001b[38;5;124m'\u001b[39m)\n",
      "\u001b[1;31mNameError\u001b[0m: name 'n2' is not defined"
     ]
    }
   ],
   "source": [
    "addition2(20)"
   ]
  },
  {
   "cell_type": "code",
   "execution_count": null,
   "id": "920b579c-1173-45a2-b958-f22449aace30",
   "metadata": {},
   "outputs": [],
   "source": [
    "def addition():\n",
    "    n1=eval(input('enter num1:'))\n",
    "    n2=eval(input('enter num2:'))\n",
    "    add=n1+n2\n",
    "    print(f'the sum of {n1} and {n2} is : {add}')\n",
    "    \n",
    "def addition1(n1,n2):\n",
    "    add=n1+n2\n",
    "    print(f'the sum of {n1} and {n2} is: {add}')\n",
    "\n",
    "def addition2(n1):\n",
    "    n2=eval(input('enter num2:'))\n",
    "    add=n1+n2\n",
    "    print(f'the sum of {n1} and {n2} is: {add}')\n",
    "\n"
   ]
  },
  {
   "cell_type": "code",
   "execution_count": 37,
   "id": "3f3e5d67-042c-4e3b-b758-4cb5a6c6561a",
   "metadata": {},
   "outputs": [
    {
     "name": "stdout",
     "output_type": "stream",
     "text": [
      "======================AVG function starts==============\n"
     ]
    },
    {
     "name": "stdin",
     "output_type": "stream",
     "text": [
      "enter number1: 25\n",
      "enter number2: 25\n",
      "enter number3: 25\n"
     ]
    },
    {
     "name": "stdout",
     "output_type": "stream",
     "text": [
      "the average of  25 , 25 and 25 is : 25.0\n",
      "======================AVG1 function starts==============\n",
      "n1 10\n"
     ]
    },
    {
     "name": "stdin",
     "output_type": "stream",
     "text": [
      "enter number2: 25\n",
      "enter number3: 25\n"
     ]
    },
    {
     "name": "stdout",
     "output_type": "stream",
     "text": [
      "the average of  10 , 25 and 25 is : 20.0\n",
      "======================AVG2 function starts==============\n",
      "n1 10\n",
      "n1 20\n"
     ]
    },
    {
     "name": "stdin",
     "output_type": "stream",
     "text": [
      "enter number3: 25\n"
     ]
    },
    {
     "name": "stdout",
     "output_type": "stream",
     "text": [
      "the average of  10 , 20 and 25 is : 18.33\n",
      "======================AVG3 function starts==============\n",
      "n1 10\n",
      "n2 20\n",
      "n3 30\n",
      "the average of  10 , 20 and 30 is : 20.0\n"
     ]
    }
   ],
   "source": [
    "print('======================AVG function starts==============')\n",
    "def AVG():\n",
    "    n1=eval(input('enter number1:'))\n",
    "    n2=eval(input('enter number2:'))\n",
    "    n3=eval(input('enter number3:'))\n",
    "    avg=(n1+n2+n3)/3\n",
    "    avg1=round(avg,2)\n",
    "    print(f\"the average of  {n1} , {n2} and {n3} is : {avg1}\")\n",
    "AVG()\n",
    "\n",
    "print('======================AVG1 function starts==============')\n",
    "def AVG1(n1):\n",
    "    print('n1',n1)\n",
    "    n2=eval(input('enter number2:'))\n",
    "    n3=eval(input('enter number3:'))\n",
    "    avg=(n1+n2+n3)/3\n",
    "    avg1=round(avg,2)\n",
    "    print(f\"the average of  {n1} , {n2} and {n3} is : {avg1}\")\n",
    "AVG1(10)\n",
    "\n",
    "print('======================AVG2 function starts==============')\n",
    "def AVG2(n1,n2):\n",
    "    print('n1',n1)\n",
    "    print('n1',n2)\n",
    "    n3=eval(input('enter number3:'))\n",
    "    avg=(n1+n2+n3)/3\n",
    "    avg1=round(avg,2)\n",
    "    print(f\"the average of  {n1} , {n2} and {n3} is : {avg1}\")\n",
    "AVG2(10,20)\n",
    "\n",
    "print('======================AVG3 function starts==============')\n",
    "def AVG3(n1,n2,n3):\n",
    "    print('n1',n1)\n",
    "    print('n2',n2)\n",
    "    print('n3',n3)\n",
    "    avg=(n1+n2+n3)/3\n",
    "    avg1=round(avg,2)\n",
    "    print(f\"the average of  {n1} , {n2} and {n3} is : {avg1}\")\n",
    "AVG3(10,20,30)\n",
    "\n"
   ]
  },
  {
   "cell_type": "code",
   "execution_count": 39,
   "id": "5f487f78-b7eb-48cc-b264-583c57e58f02",
   "metadata": {},
   "outputs": [
    {
     "name": "stdin",
     "output_type": "stream",
     "text": [
      "enter the bill: 500\n",
      "enter tip percentage: 10\n"
     ]
    },
    {
     "name": "stdout",
     "output_type": "stream",
     "text": [
      "totalbill is: 550.0\n"
     ]
    }
   ],
   "source": [
    "def bill_amount():\n",
    "    bill=eval(input('enter the bill:'))\n",
    "    tip_per=eval(input('enter tip percentage:'))\n",
    "    tip_amt=bill*tip_per/100\n",
    "    total_bill=bill+tip_amt\n",
    "    print('totalbill is:',total_bill)\n",
    "bill_amount()"
   ]
  },
  {
   "cell_type": "code",
   "execution_count": 41,
   "id": "70457c49-bc33-44be-848f-5902f29b969c",
   "metadata": {},
   "outputs": [
    {
     "name": "stdout",
     "output_type": "stream",
     "text": [
      "totalbill is: 1200.0\n"
     ]
    }
   ],
   "source": [
    "def bill_amount1(bill,tip_per=20):\n",
    "    tip_amt=bill*tip_per/100\n",
    "    total_bill=bill+tip_amt\n",
    "    print('totalbill is:',total_bill)\n",
    "bill_amount1(1000)"
   ]
  },
  {
   "cell_type": "markdown",
   "id": "831bf2ab-64db-43f0-a64a-b5ce45398b50",
   "metadata": {},
   "source": [
    "# Default arguments"
   ]
  },
  {
   "cell_type": "markdown",
   "id": "eac4f75f-e806-428c-9a0b-7c253c926bed",
   "metadata": {},
   "source": [
    "- in above function the tip_per is fixed as 20\n",
    "- this is called default arguments\n",
    "- while calling the function no need to provide tip_per again\n",
    "- if you provide again the value will be changed"
   ]
  },
  {
   "cell_type": "code",
   "execution_count": 45,
   "id": "fe9831ae-d44e-499a-b567-39e2536ea144",
   "metadata": {},
   "outputs": [
    {
     "name": "stdout",
     "output_type": "stream",
     "text": [
      "totalbill is: 1300.0\n"
     ]
    }
   ],
   "source": [
    "def bill_amount1(bill,tip_per=20):\n",
    "    tip_amt=bill*tip_per/100\n",
    "    total_bill=bill+tip_amt\n",
    "    print('totalbill is:',total_bill)\n",
    "bill_amount1(1000,30)"
   ]
  },
  {
   "cell_type": "code",
   "execution_count": 47,
   "id": "7d917b27-9b86-4b24-b95f-ea5cb1f71d68",
   "metadata": {},
   "outputs": [
    {
     "name": "stdout",
     "output_type": "stream",
     "text": [
      "n1 is: 10\n",
      "n2 is: 20\n",
      "n3 is: 30\n",
      "the average of  10 , 20 and 30 is : 20.0\n"
     ]
    }
   ],
   "source": [
    "def AVG4(n1,n2,n3=30):\n",
    "    print('n1 is:',n1)\n",
    "    print('n2 is:',n2)\n",
    "    print('n3 is:',n3)\n",
    "    avg=(n1+n2+n3)/3\n",
    "    avg1=round(avg,2)\n",
    "    print(f\"the average of  {n1} , {n2} and {n3} is : {avg1}\")\n",
    "AVG4(10,20)\n"
   ]
  },
  {
   "cell_type": "code",
   "execution_count": 49,
   "id": "6293c78b-b553-4913-853c-693c1c63240a",
   "metadata": {},
   "outputs": [
    {
     "ename": "SyntaxError",
     "evalue": "parameter without a default follows parameter with a default (1450009379.py, line 1)",
     "output_type": "error",
     "traceback": [
      "\u001b[1;36m  Cell \u001b[1;32mIn[49], line 1\u001b[1;36m\u001b[0m\n\u001b[1;33m    def AVG4(n1,n2=20,n3):\u001b[0m\n\u001b[1;37m                      ^\u001b[0m\n\u001b[1;31mSyntaxError\u001b[0m\u001b[1;31m:\u001b[0m parameter without a default follows parameter with a default\n"
     ]
    }
   ],
   "source": [
    "def AVG4(n1,n2=20,n3):\n",
    "    print('n1 is:',n1)\n",
    "    print('n2 is:',n2)\n",
    "    print('n3 is:',n3)\n",
    "    avg=(n1+n2+n3)/3\n",
    "    avg1=round(avg,2)\n",
    "    print(f\"the average of  {n1} , {n2} and {n3} is : {avg1}\")\n",
    "AVG4(100,200)\n"
   ]
  },
  {
   "cell_type": "markdown",
   "id": "b943475f-f30f-43ed-89c4-282558155dff",
   "metadata": {},
   "source": [
    "**note**: Default arguments always at last"
   ]
  },
  {
   "cell_type": "code",
   "execution_count": 52,
   "id": "848f054d-4d40-4897-9d94-4cc551b8f556",
   "metadata": {},
   "outputs": [
    {
     "name": "stdout",
     "output_type": "stream",
     "text": [
      "n1 is: 100\n",
      "n2 is: 20\n",
      "n3 is: 200\n",
      "the average of  100 , 20 and 200 is : 106.67\n"
     ]
    }
   ],
   "source": [
    "# means\n",
    "def AVG4(n1,n3,n2=20):\n",
    "    print('n1 is:',n1)\n",
    "    print('n2 is:',n2)\n",
    "    print('n3 is:',n3)\n",
    "    avg=(n1+n2+n3)/3\n",
    "    avg1=round(avg,2)\n",
    "    print(f\"the average of  {n1} , {n2} and {n3} is : {avg1}\")\n",
    "AVG4(100,200)\n"
   ]
  },
  {
   "cell_type": "code",
   "execution_count": null,
   "id": "cddadaa8-5687-4f8d-89d9-11f92e65da24",
   "metadata": {},
   "outputs": [],
   "source": [
    "n1,n2,n3=100   #w\n",
    "n1,n2=100,n3   #f\n",
    "n1=100,n2,n3    #f\n",
    "n1,n2=100,n3=100  #w\n",
    "n1=100,n2,n3=100   #f\n",
    "n1=100,n2=100,n3   #f\n",
    "n1=100,n2=100,n3=100 #w"
   ]
  },
  {
   "cell_type": "code",
   "execution_count": 1,
   "id": "dd014095-c143-4138-bfc6-d06834ea240c",
   "metadata": {},
   "outputs": [
    {
     "name": "stdout",
     "output_type": "stream",
     "text": [
      "Function without arguments\n"
     ]
    },
    {
     "name": "stdin",
     "output_type": "stream",
     "text": [
      "enter the salary: 20000\n",
      "enter the tax: 10\n"
     ]
    },
    {
     "name": "stdout",
     "output_type": "stream",
     "text": [
      "the total tax pay: 2000.0\n",
      "Function with arguments\n",
      "tax pay is: 2000.0\n",
      "Function with default arguments\n",
      "tax pay is: 5000.0\n"
     ]
    }
   ],
   "source": [
    "print('Function without arguments')\n",
    "def tax_cal():\n",
    "    salary=eval(input('enter the salary:'))\n",
    "    tax_per=eval(input('enter the tax:'))\n",
    "    tax_pay=salary*tax_per/100\n",
    "    print('the total tax pay:',tax_pay)\n",
    "\n",
    "tax_cal()\n",
    "\n",
    "\n",
    "print('Function with arguments')\n",
    "def tax_cal1(salary,tax_per):\n",
    "    tax_pay=salary*tax_per/100\n",
    "    print('tax pay is:',tax_pay)\n",
    "\n",
    "tax_cal1(10000,20)\n",
    "\n",
    "print('Function with default arguments')\n",
    "def tax_cal2(salary,tax_per=10):\n",
    "    #salary=eval(input('enter the salary:'))\n",
    "    #tax_per=eval(input('enter the tax:'))\n",
    "    tax_pay=salary*tax_per/100\n",
    "    print('tax pay is:',tax_pay)\n",
    "\n",
    "tax_cal2(50000)\n",
    "\n"
   ]
  },
  {
   "cell_type": "markdown",
   "id": "0f3739b3-02e7-4b7e-9149-8d44bacbe266",
   "metadata": {},
   "source": [
    "**analogy with the packages**"
   ]
  },
  {
   "cell_type": "code",
   "execution_count": 4,
   "id": "2a1ac575-5b00-4d5f-a5b1-fc420c9703ca",
   "metadata": {},
   "outputs": [],
   "source": [
    "from random import randint,random"
   ]
  },
  {
   "cell_type": "code",
   "execution_count": null,
   "id": "dc15042d-5bdf-4391-babe-5a61c63dae58",
   "metadata": {},
   "outputs": [],
   "source": [
    "random()\n",
    "tax_cal()\n",
    "randint()\n",
    "tax_cal1()\n",
    "complex()"
   ]
  },
  {
   "cell_type": "code",
   "execution_count": 9,
   "id": "8563a98d-7aff-4dda-85fc-0cf787dfd2c4",
   "metadata": {},
   "outputs": [
    {
     "data": {
      "text/plain": [
       "(3+4j)"
      ]
     },
     "execution_count": 9,
     "metadata": {},
     "output_type": "execute_result"
    }
   ],
   "source": [
    "complex(3,4)  # real=3  imag=4  3+4j"
   ]
  },
  {
   "cell_type": "code",
   "execution_count": 13,
   "id": "2a906453-d0e2-4b26-9468-b4b3910bc42a",
   "metadata": {},
   "outputs": [
    {
     "data": {
      "text/plain": [
       "(3+0j)"
      ]
     },
     "execution_count": 13,
     "metadata": {},
     "output_type": "execute_result"
    }
   ],
   "source": [
    "complex(3)   # real=3  imag=0 3+0j"
   ]
  },
  {
   "cell_type": "code",
   "execution_count": 15,
   "id": "0f04d031-b8ab-4526-8a6d-1ae75d54905e",
   "metadata": {},
   "outputs": [
    {
     "data": {
      "text/plain": [
       "0j"
      ]
     },
     "execution_count": 15,
     "metadata": {},
     "output_type": "execute_result"
    }
   ],
   "source": [
    "complex()     #real=0  imag=0   0+0j"
   ]
  },
  {
   "cell_type": "markdown",
   "id": "5fd4038b-b767-4488-81b1-0c9a3bbe1eee",
   "metadata": {},
   "source": [
    "- now onwards whenever you see any package\n",
    "\n",
    "- always do shift+tab inside the brackets and observe\n",
    "\n",
    "- with or without or default arguments\n",
    "\n"
   ]
  },
  {
   "cell_type": "code",
   "execution_count": 18,
   "id": "5bd6c420-28da-4c45-aac2-4e4b1fb6b1fe",
   "metadata": {},
   "outputs": [
    {
     "name": "stdout",
     "output_type": "stream",
     "text": [
      "a: 100\n",
      "b: 200\n",
      "c: 300\n",
      "the summation of 100 , 200 and 300 is: 600\n"
     ]
    }
   ],
   "source": [
    "def add(a,b,c):\n",
    "    print('a:',a)\n",
    "    print('b:',b)\n",
    "    print('c:',c)\n",
    "    summ=a+b+c\n",
    "    print(f'the summation of {a} , {b} and {c} is: {summ}')\n",
    "\n",
    "add(100,200,300)"
   ]
  },
  {
   "cell_type": "markdown",
   "id": "a42a68ff-195f-4212-83ff-85f3e5b2443d",
   "metadata": {},
   "source": [
    "**case-1:**"
   ]
  },
  {
   "cell_type": "code",
   "execution_count": 24,
   "id": "792246b2-0766-469d-95cf-2939f4bcbcc1",
   "metadata": {},
   "outputs": [
    {
     "name": "stdout",
     "output_type": "stream",
     "text": [
      "a: 100\n",
      "b: 200\n",
      "c: 400\n",
      "the summation of 100 , 200 and 400 is: 700\n"
     ]
    }
   ],
   "source": [
    "def add(a,b,c=400):\n",
    "    print('a:',a)\n",
    "    print('b:',b)\n",
    "    print('c:',c)\n",
    "    summ=a+b+c\n",
    "    print(f'the summation of {a} , {b} and {c} is: {summ}')\n",
    "\n",
    "add(100,200)"
   ]
  },
  {
   "cell_type": "markdown",
   "id": "e0b9f723-0380-4e5c-a5b1-09908b0269f3",
   "metadata": {},
   "source": [
    "**case-2:**"
   ]
  },
  {
   "cell_type": "code",
   "execution_count": 21,
   "id": "b0ed7a7b-ceb9-467d-b450-6ad312c31b7c",
   "metadata": {},
   "outputs": [
    {
     "name": "stdout",
     "output_type": "stream",
     "text": [
      "a: 100\n",
      "b: 200\n",
      "c: 600\n",
      "the summation of 100 , 200 and 600 is: 900\n"
     ]
    }
   ],
   "source": [
    "def add(a,b,c=400):\n",
    "    print('a:',a)\n",
    "    print('b:',b)\n",
    "    print('c:',c)\n",
    "    summ=a+b+c\n",
    "    print(f'the summation of {a} , {b} and {c} is: {summ}')\n",
    "\n",
    "add(100,200,600)"
   ]
  },
  {
   "cell_type": "code",
   "execution_count": null,
   "id": "2bf957a3-71bb-4071-ac41-90504864f7f8",
   "metadata": {},
   "outputs": [],
   "source": []
  },
  {
   "cell_type": "markdown",
   "id": "24c1344e-76f9-4f3f-9e1a-5826094fc5c3",
   "metadata": {},
   "source": [
    "- in above case we already provided default value c=400\n",
    "\n",
    "- but while we call the function c value become=600\n",
    "\n",
    "- step-1: **Define the function** : while define what is the value 400\n",
    "\n",
    "- step-2: **call the function** : while call the function what is the value 600\n",
    "\n",
    "- step-3: **Running the function** : while running what is the value : 600"
   ]
  },
  {
   "cell_type": "code",
   "execution_count": 9,
   "id": "ae4f940a-c948-41ae-be9a-e76a0f6bda7f",
   "metadata": {},
   "outputs": [
    {
     "ename": "NameError",
     "evalue": "name 'add1' is not defined",
     "output_type": "error",
     "traceback": [
      "\u001b[1;31m---------------------------------------------------------------------------\u001b[0m",
      "\u001b[1;31mNameError\u001b[0m                                 Traceback (most recent call last)",
      "Cell \u001b[1;32mIn[9], line 1\u001b[0m\n\u001b[1;32m----> 1\u001b[0m add1(\u001b[38;5;241m100\u001b[39m,\u001b[38;5;241m200\u001b[39m,\u001b[38;5;241m600\u001b[39m)\n\u001b[0;32m      2\u001b[0m \u001b[38;5;28;01mdef\u001b[39;00m \u001b[38;5;21madd1\u001b[39m(a,b,c\u001b[38;5;241m=\u001b[39m\u001b[38;5;241m400\u001b[39m):\n\u001b[0;32m      3\u001b[0m     \u001b[38;5;28mprint\u001b[39m(\u001b[38;5;124m'\u001b[39m\u001b[38;5;124ma:\u001b[39m\u001b[38;5;124m'\u001b[39m,a)\n",
      "\u001b[1;31mNameError\u001b[0m: name 'add1' is not defined"
     ]
    }
   ],
   "source": [
    "add1(100,200,600)\n",
    "def add1(a,b,c=400):\n",
    "    print('a:',a)\n",
    "    print('b:',b)\n",
    "    print('c:',c)\n",
    "    summ=a+b+c\n",
    "    print(f'the summation of {a} , {b} and {c} is: {summ}')\n",
    "\n"
   ]
  },
  {
   "cell_type": "code",
   "execution_count": null,
   "id": "6eeb69ce-a12f-4a83-b1a5-003cde47ab19",
   "metadata": {},
   "outputs": [],
   "source": [
    "# step-1: def add(a,b,c=400):\n",
    "# step-3: print('a:',a)\n",
    "def add(a,b,c=400):\n",
    "    print('a:',a)\n",
    "    print('b:',b)\n",
    "    print('c:',c)\n",
    "    summ=a+b+c\n",
    "    print(f'the summation of {a} , {b} and {c} is: {summ}')\n",
    "\n",
    "add(100,200,600)\n",
    "#  step-2: add(100,200,600)"
   ]
  },
  {
   "cell_type": "markdown",
   "id": "8d84f7e6-e226-4ae1-8a6c-202af614d126",
   "metadata": {},
   "source": [
    "**case-3:**"
   ]
  },
  {
   "cell_type": "code",
   "execution_count": 12,
   "id": "4793bcd1-791d-4627-809f-5cef55a0c4a6",
   "metadata": {},
   "outputs": [
    {
     "name": "stdout",
     "output_type": "stream",
     "text": [
      "a: 100\n",
      "b: 200\n",
      "c: 1000\n",
      "the summation of 100 , 200 and 1000 is: 1300\n"
     ]
    }
   ],
   "source": [
    "def add(a,b,c=400):                       # defining function\n",
    "    c=1000                                # running function\n",
    "    print('a:',a)                   # running\n",
    "    print('b:',b)                    #running\n",
    "    print('c:',c)                   # running\n",
    "    summ=a+b+c                       #running\n",
    "    print(f'the summation of {a} , {b} and {c} is: {summ}')  # running\n",
    "\n",
    "add(100,200,600)                  # calling function\n",
    "\n",
    "# while define c=400\n",
    "# while calling c=600\n",
    "# while running c=1000"
   ]
  },
  {
   "cell_type": "code",
   "execution_count": 14,
   "id": "46234346-d09a-4abd-8436-b33fb4336765",
   "metadata": {},
   "outputs": [
    {
     "name": "stdout",
     "output_type": "stream",
     "text": [
      "a: 100\n",
      "b: 200\n",
      "c: 1000\n",
      "the summation of 100 , 200 and 1000 is: 1300\n"
     ]
    }
   ],
   "source": [
    "def add(a,b,c):\n",
    "    c=1000\n",
    "    print('a:',a)\n",
    "    print('b:',b)\n",
    "    print('c:',c)\n",
    "    summ=a+b+c\n",
    "    print(f'the summation of {a} , {b} and {c} is: {summ}')\n",
    "\n",
    "add(100,200,600)"
   ]
  },
  {
   "cell_type": "code",
   "execution_count": 24,
   "id": "1772a07e-42ea-4183-bb80-08563dc05f44",
   "metadata": {},
   "outputs": [
    {
     "name": "stdout",
     "output_type": "stream",
     "text": [
      "a: 100\n",
      "b: 200\n",
      "c: 1000\n",
      "the summation of 100 , 200 and 1000 is: 1300\n"
     ]
    }
   ],
   "source": [
    "c=3000\n",
    "def add(a,b,c=600):\n",
    "    c=1000\n",
    "    print('a:',a)\n",
    "    print('b:',b)\n",
    "    print('c:',c)\n",
    "    summ=a+b+c\n",
    "    print(f'the summation of {a} , {b} and {c} is: {summ}')\n",
    "c=2000\n",
    "add(100,200,800)"
   ]
  },
  {
   "cell_type": "code",
   "execution_count": 26,
   "id": "b4aa64e2-848b-4863-8dfd-8005e9854296",
   "metadata": {},
   "outputs": [
    {
     "name": "stdout",
     "output_type": "stream",
     "text": [
      "a: 100\n",
      "b: 200\n",
      "c: 2000\n",
      "the summation of 100 , 200 and 2000 is: 2300\n"
     ]
    }
   ],
   "source": [
    "c=3000\n",
    "def add(a,b):\n",
    "    print('a:',a)\n",
    "    print('b:',b)\n",
    "    print('c:',c)\n",
    "    summ=a+b+c\n",
    "    print(f'the summation of {a} , {b} and {c} is: {summ}')\n",
    "c=2000\n",
    "add(100,200)\n",
    "\n",
    "\n",
    "# c=3000\n",
    "#  def add() there is no c  : c=3000\n",
    "# call    no c    : c=3000\n",
    "#  inside any c   : c=2000"
   ]
  },
  {
   "cell_type": "code",
   "execution_count": 28,
   "id": "7b7da998-75d1-4da0-8278-a4c4e2f188a8",
   "metadata": {},
   "outputs": [
    {
     "name": "stdout",
     "output_type": "stream",
     "text": [
      "a: 100\n",
      "b: 200\n",
      "c: 3000\n",
      "the summation of 100 , 200 and 3000 is: 3300\n"
     ]
    }
   ],
   "source": [
    "c=3000\n",
    "def add(a,b):\n",
    "    print('a:',a)\n",
    "    print('b:',b)\n",
    "    print('c:',c)\n",
    "    summ=a+b+c\n",
    "    print(f'the summation of {a} , {b} and {c} is: {summ}')\n",
    "add(100,200)\n"
   ]
  },
  {
   "cell_type": "markdown",
   "id": "661cb772-c93e-403e-8f4f-2c3aac6399e7",
   "metadata": {},
   "source": [
    "**global variable vs local variable**\n",
    "\n",
    "- the variables outside the function is called as **Global variable**\n",
    "\n",
    "    - global variables can use anywhere\n",
    "\n",
    "    - global variables can be use inside the function also outside the function\n",
    "\n",
    "- the variables inside the function is called as **Local variable**\n",
    "\n",
    "    - local variables can be use only inside the function\n",
    "\n",
    "    - local variables can not be use outside the function"
   ]
  },
  {
   "cell_type": "code",
   "execution_count": 31,
   "id": "5282e520-9d88-4a61-867a-8f4632837096",
   "metadata": {},
   "outputs": [
    {
     "name": "stdout",
     "output_type": "stream",
     "text": [
      "the summation of 100 and 200 is: 300\n"
     ]
    }
   ],
   "source": [
    "def addition():\n",
    "    n1=100\n",
    "    n2=200\n",
    "    summ=n1+n2\n",
    "    print(f'the summation of {n1} and {n2} is: {summ}')\n",
    "addition()\n"
   ]
  },
  {
   "cell_type": "code",
   "execution_count": 41,
   "id": "14b3d813-0c66-43dd-8332-3956c355676e",
   "metadata": {},
   "outputs": [
    {
     "ename": "NameError",
     "evalue": "name 'n1' is not defined",
     "output_type": "error",
     "traceback": [
      "\u001b[1;31m---------------------------------------------------------------------------\u001b[0m",
      "\u001b[1;31mNameError\u001b[0m                                 Traceback (most recent call last)",
      "Cell \u001b[1;32mIn[41], line 1\u001b[0m\n\u001b[1;32m----> 1\u001b[0m n1\n",
      "\u001b[1;31mNameError\u001b[0m: name 'n1' is not defined"
     ]
    }
   ],
   "source": [
    "n1"
   ]
  },
  {
   "cell_type": "code",
   "execution_count": 33,
   "id": "1097ff9c-1e48-4ead-b1d1-c10d335541a4",
   "metadata": {},
   "outputs": [
    {
     "ename": "NameError",
     "evalue": "name 'summ' is not defined",
     "output_type": "error",
     "traceback": [
      "\u001b[1;31m---------------------------------------------------------------------------\u001b[0m",
      "\u001b[1;31mNameError\u001b[0m                                 Traceback (most recent call last)",
      "Cell \u001b[1;32mIn[33], line 1\u001b[0m\n\u001b[1;32m----> 1\u001b[0m summ\n",
      "\u001b[1;31mNameError\u001b[0m: name 'summ' is not defined"
     ]
    }
   ],
   "source": [
    "summ\n"
   ]
  },
  {
   "cell_type": "code",
   "execution_count": 35,
   "id": "f67db37b-21b2-4e06-9c55-909d6ccdf7f0",
   "metadata": {},
   "outputs": [
    {
     "name": "stdout",
     "output_type": "stream",
     "text": [
      "the summation of 1000 and 2000 is: 3000\n"
     ]
    }
   ],
   "source": [
    "n1=1000\n",
    "n2=2000\n",
    "def addition():\n",
    "    summ=n1+n2\n",
    "    print(f'the summation of {n1} and {n2} is: {summ}')\n",
    "addition()\n"
   ]
  },
  {
   "cell_type": "code",
   "execution_count": 37,
   "id": "e880f633-9b93-4aec-90cc-2a2f6738f3a9",
   "metadata": {},
   "outputs": [
    {
     "data": {
      "text/plain": [
       "1000"
      ]
     },
     "execution_count": 37,
     "metadata": {},
     "output_type": "execute_result"
    }
   ],
   "source": [
    "n1"
   ]
  },
  {
   "cell_type": "code",
   "execution_count": 39,
   "id": "cb3d86eb-ea23-46b9-a102-7022ba2a2419",
   "metadata": {},
   "outputs": [
    {
     "ename": "NameError",
     "evalue": "name 'summ' is not defined",
     "output_type": "error",
     "traceback": [
      "\u001b[1;31m---------------------------------------------------------------------------\u001b[0m",
      "\u001b[1;31mNameError\u001b[0m                                 Traceback (most recent call last)",
      "Cell \u001b[1;32mIn[39], line 1\u001b[0m\n\u001b[1;32m----> 1\u001b[0m summ\n",
      "\u001b[1;31mNameError\u001b[0m: name 'summ' is not defined"
     ]
    }
   ],
   "source": [
    "summ"
   ]
  },
  {
   "cell_type": "markdown",
   "id": "14479a6c-0252-4d32-bd2b-7cf6623ab7e2",
   "metadata": {},
   "source": [
    "**how to convert local variable to global variable**\n",
    "\n",
    "- if we want to use summ variable outside the function\n",
    "\n",
    "- then initialise summ as global using global keyword"
   ]
  },
  {
   "cell_type": "code",
   "execution_count": 56,
   "id": "9127c39f-2697-4d18-b96d-b70fa58a5c3c",
   "metadata": {},
   "outputs": [
    {
     "name": "stdout",
     "output_type": "stream",
     "text": [
      "the summation of 1000 and 2000 is: 3000\n"
     ]
    }
   ],
   "source": [
    "n1=1000\n",
    "n2=2000\n",
    "def addition():\n",
    "    global summ\n",
    "    summ=n1+n2\n",
    "    print(f'the summation of {n1} and {n2} is: {summ}')\n",
    "addition()\n"
   ]
  },
  {
   "cell_type": "code",
   "execution_count": 53,
   "id": "b85c34f0-8e21-4532-8802-7a82e9dfb0f1",
   "metadata": {},
   "outputs": [
    {
     "data": {
      "text/plain": [
       "3000"
      ]
     },
     "execution_count": 53,
     "metadata": {},
     "output_type": "execute_result"
    }
   ],
   "source": [
    "summ"
   ]
  },
  {
   "cell_type": "markdown",
   "id": "dc1673db-fa28-472d-aec5-b9e9e09e62ad",
   "metadata": {},
   "source": [
    "**note:** how to convert local variable to global variable:\n",
    "- use global keyword\n",
    "- if we want to use summ variableoutside the function\n",
    "- then initialise summ as global also using global keyword"
   ]
  },
  {
   "cell_type": "code",
   "execution_count": 7,
   "id": "e127333d-e81b-48a2-bc74-b242d992db60",
   "metadata": {},
   "outputs": [
    {
     "ename": "UnboundLocalError",
     "evalue": "cannot access local variable 's' where it is not associated with a value",
     "output_type": "error",
     "traceback": [
      "\u001b[1;31m---------------------------------------------------------------------------\u001b[0m",
      "\u001b[1;31mUnboundLocalError\u001b[0m                         Traceback (most recent call last)",
      "Cell \u001b[1;32mIn[7], line 6\u001b[0m\n\u001b[0;32m      4\u001b[0m     s\u001b[38;5;241m=\u001b[39ms\u001b[38;5;241m+\u001b[39mn1         \u001b[38;5;66;03m# we think s=0    s=0+100=100  but not correct and here s is a global\u001b[39;00m\n\u001b[0;32m      5\u001b[0m     \u001b[38;5;28mprint\u001b[39m(s)        \u001b[38;5;66;03m#and also we assign zero and aslo use it as local var.\u001b[39;00m\n\u001b[1;32m----> 6\u001b[0m add1()\n",
      "Cell \u001b[1;32mIn[7], line 4\u001b[0m, in \u001b[0;36madd1\u001b[1;34m()\u001b[0m\n\u001b[0;32m      2\u001b[0m \u001b[38;5;28;01mdef\u001b[39;00m \u001b[38;5;21madd1\u001b[39m():\n\u001b[0;32m      3\u001b[0m     n1\u001b[38;5;241m=\u001b[39m\u001b[38;5;241m100\u001b[39m\n\u001b[1;32m----> 4\u001b[0m     s\u001b[38;5;241m=\u001b[39ms\u001b[38;5;241m+\u001b[39mn1         \u001b[38;5;66;03m# we think s=0    s=0+100=100  but not correct and here s is a global\u001b[39;00m\n\u001b[0;32m      5\u001b[0m     \u001b[38;5;28mprint\u001b[39m(s)\n",
      "\u001b[1;31mUnboundLocalError\u001b[0m: cannot access local variable 's' where it is not associated with a value"
     ]
    }
   ],
   "source": [
    "s=0\n",
    "def add1():\n",
    "    n1=100\n",
    "    s=s+n1         # we think s=0    s=0+100=100  but not correct and here s is a global\n",
    "    print(s)        #and also we assign zero and aslo use it as local var.\n",
    "add1()\n",
    "\n"
   ]
  },
  {
   "cell_type": "code",
   "execution_count": 3,
   "id": "4e86a0e7-d100-4b75-be37-e3f8659378d1",
   "metadata": {},
   "outputs": [
    {
     "name": "stdout",
     "output_type": "stream",
     "text": [
      "0\n"
     ]
    }
   ],
   "source": [
    "s=0\n",
    "def add1():\n",
    "    n1=100\n",
    "    s1=s+n1         # we think s=0    s=0+100=100  but not correct and here s is a global\n",
    "    print(s)        #and also we assign zero and aslo use it as local var.\n",
    "add1()\n",
    "\n"
   ]
  },
  {
   "cell_type": "code",
   "execution_count": 5,
   "id": "4af3f50d-8347-4663-98b3-e574aaf967f9",
   "metadata": {},
   "outputs": [
    {
     "name": "stdout",
     "output_type": "stream",
     "text": [
      "100\n"
     ]
    }
   ],
   "source": [
    "s=0\n",
    "def add1():\n",
    "    global s1\n",
    "    n1=100\n",
    "    s1=s+n1\n",
    "    print(s1)\n",
    "add1()"
   ]
  },
  {
   "cell_type": "code",
   "execution_count": null,
   "id": "3ea4bebd-7cb1-4570-a933-aaa1a537fc72",
   "metadata": {},
   "outputs": [],
   "source": []
  },
  {
   "cell_type": "code",
   "execution_count": 9,
   "id": "a16fdb41-e82d-4bed-b71e-91d02e3ebfb0",
   "metadata": {},
   "outputs": [
    {
     "data": {
      "text/plain": [
       "100"
      ]
     },
     "execution_count": 9,
     "metadata": {},
     "output_type": "execute_result"
    }
   ],
   "source": [
    "s1"
   ]
  },
  {
   "cell_type": "code",
   "execution_count": 45,
   "id": "5659810f-7c7a-4c21-b4d4-38cf36019435",
   "metadata": {},
   "outputs": [
    {
     "name": "stdout",
     "output_type": "stream",
     "text": [
      "100\n"
     ]
    }
   ],
   "source": [
    "s=0\n",
    "def add1():\n",
    "    global s1\n",
    "    n1=100\n",
    "    s1=s+n1\n",
    "    print(s1)\n",
    "add1()"
   ]
  },
  {
   "cell_type": "code",
   "execution_count": 47,
   "id": "42bdbff8-6b03-4a54-90f9-0082d4eb72a0",
   "metadata": {},
   "outputs": [
    {
     "data": {
      "text/plain": [
       "100"
      ]
     },
     "execution_count": 47,
     "metadata": {},
     "output_type": "execute_result"
    }
   ],
   "source": [
    "s1"
   ]
  },
  {
   "cell_type": "markdown",
   "id": "4a0fcdcf-72aa-4292-b34f-0d8a7cead85f",
   "metadata": {},
   "source": [
    "**unbound local error**"
   ]
  },
  {
   "cell_type": "markdown",
   "id": "23f933c8-0840-429e-89d9-faa02ab3ef6a",
   "metadata": {},
   "source": [
    "- in below example s is not initialised\n",
    "- we might think name error will come\n",
    "- but inside function we will get **unbound local error**"
   ]
  },
  {
   "cell_type": "code",
   "execution_count": 49,
   "id": "34266018-6ba1-4eb1-a538-6ea2f1e6caf1",
   "metadata": {},
   "outputs": [
    {
     "ename": "UnboundLocalError",
     "evalue": "cannot access local variable 's' where it is not associated with a value",
     "output_type": "error",
     "traceback": [
      "\u001b[1;31m---------------------------------------------------------------------------\u001b[0m",
      "\u001b[1;31mUnboundLocalError\u001b[0m                         Traceback (most recent call last)",
      "Cell \u001b[1;32mIn[49], line 5\u001b[0m\n\u001b[0;32m      3\u001b[0m     s\u001b[38;5;241m=\u001b[39ms\u001b[38;5;241m+\u001b[39mn1\n\u001b[0;32m      4\u001b[0m     \u001b[38;5;28mprint\u001b[39m(s)\n\u001b[1;32m----> 5\u001b[0m add1()\n",
      "Cell \u001b[1;32mIn[49], line 3\u001b[0m, in \u001b[0;36madd1\u001b[1;34m()\u001b[0m\n\u001b[0;32m      1\u001b[0m \u001b[38;5;28;01mdef\u001b[39;00m \u001b[38;5;21madd1\u001b[39m():\n\u001b[0;32m      2\u001b[0m     n1\u001b[38;5;241m=\u001b[39m\u001b[38;5;241m100\u001b[39m\n\u001b[1;32m----> 3\u001b[0m     s\u001b[38;5;241m=\u001b[39ms\u001b[38;5;241m+\u001b[39mn1\n\u001b[0;32m      4\u001b[0m     \u001b[38;5;28mprint\u001b[39m(s)\n",
      "\u001b[1;31mUnboundLocalError\u001b[0m: cannot access local variable 's' where it is not associated with a value"
     ]
    }
   ],
   "source": [
    "def add1():\n",
    "    n1=100\n",
    "    s=s+n1\n",
    "    print(s)\n",
    "add1()"
   ]
  },
  {
   "cell_type": "code",
   "execution_count": 13,
   "id": "eec7f082-f05a-442f-8248-adbe448520ea",
   "metadata": {},
   "outputs": [
    {
     "ename": "NameError",
     "evalue": "name 'summ1' is not defined",
     "output_type": "error",
     "traceback": [
      "\u001b[1;31m---------------------------------------------------------------------------\u001b[0m",
      "\u001b[1;31mNameError\u001b[0m                                 Traceback (most recent call last)",
      "Cell \u001b[1;32mIn[13], line 5\u001b[0m\n\u001b[0;32m      3\u001b[0m     s1\u001b[38;5;241m=\u001b[39msumm1\u001b[38;5;241m+\u001b[39mn1\n\u001b[0;32m      4\u001b[0m     \u001b[38;5;28mprint\u001b[39m(s1)\n\u001b[1;32m----> 5\u001b[0m add1()\n",
      "Cell \u001b[1;32mIn[13], line 3\u001b[0m, in \u001b[0;36madd1\u001b[1;34m()\u001b[0m\n\u001b[0;32m      1\u001b[0m \u001b[38;5;28;01mdef\u001b[39;00m \u001b[38;5;21madd1\u001b[39m():\n\u001b[0;32m      2\u001b[0m     n1\u001b[38;5;241m=\u001b[39m\u001b[38;5;241m100\u001b[39m\n\u001b[1;32m----> 3\u001b[0m     s1\u001b[38;5;241m=\u001b[39msumm1\u001b[38;5;241m+\u001b[39mn1\n\u001b[0;32m      4\u001b[0m     \u001b[38;5;28mprint\u001b[39m(s1)\n",
      "\u001b[1;31mNameError\u001b[0m: name 'summ1' is not defined"
     ]
    }
   ],
   "source": [
    "def add1():\n",
    "    n1=100\n",
    "    s1=summ1+n1\n",
    "    print(s1)\n",
    "add1()"
   ]
  },
  {
   "cell_type": "code",
   "execution_count": 72,
   "id": "b263d84a-716d-4fa8-8aeb-87d4e56f84ca",
   "metadata": {},
   "outputs": [
    {
     "ename": "UnboundLocalError",
     "evalue": "cannot access local variable 'summ1' where it is not associated with a value",
     "output_type": "error",
     "traceback": [
      "\u001b[1;31m---------------------------------------------------------------------------\u001b[0m",
      "\u001b[1;31mUnboundLocalError\u001b[0m                         Traceback (most recent call last)",
      "Cell \u001b[1;32mIn[72], line 5\u001b[0m\n\u001b[0;32m      3\u001b[0m     summ1\u001b[38;5;241m=\u001b[39msumm1\u001b[38;5;241m+\u001b[39mn1\n\u001b[0;32m      4\u001b[0m     \u001b[38;5;28mprint\u001b[39m(summ1)\n\u001b[1;32m----> 5\u001b[0m add1()\n",
      "Cell \u001b[1;32mIn[72], line 3\u001b[0m, in \u001b[0;36madd1\u001b[1;34m()\u001b[0m\n\u001b[0;32m      1\u001b[0m \u001b[38;5;28;01mdef\u001b[39;00m \u001b[38;5;21madd1\u001b[39m():\n\u001b[0;32m      2\u001b[0m     n1\u001b[38;5;241m=\u001b[39m\u001b[38;5;241m100\u001b[39m\n\u001b[1;32m----> 3\u001b[0m     summ1\u001b[38;5;241m=\u001b[39msumm1\u001b[38;5;241m+\u001b[39mn1\n\u001b[0;32m      4\u001b[0m     \u001b[38;5;28mprint\u001b[39m(summ1)\n",
      "\u001b[1;31mUnboundLocalError\u001b[0m: cannot access local variable 'summ1' where it is not associated with a value"
     ]
    }
   ],
   "source": [
    "def add1():\n",
    "    n1=100\n",
    "    summ1=summ1+n1\n",
    "    print(summ1)\n",
    "add1()"
   ]
  },
  {
   "cell_type": "code",
   "execution_count": 74,
   "id": "1d486e4e-ee63-4a9d-abaa-f909152128e8",
   "metadata": {},
   "outputs": [
    {
     "ename": "NameError",
     "evalue": "name 'summ1' is not defined",
     "output_type": "error",
     "traceback": [
      "\u001b[1;31m---------------------------------------------------------------------------\u001b[0m",
      "\u001b[1;31mNameError\u001b[0m                                 Traceback (most recent call last)",
      "Cell \u001b[1;32mIn[74], line 5\u001b[0m\n\u001b[0;32m      3\u001b[0m     s1\u001b[38;5;241m=\u001b[39msumm1\u001b[38;5;241m+\u001b[39mn1\n\u001b[0;32m      4\u001b[0m     \u001b[38;5;28mprint\u001b[39m(s1)\n\u001b[1;32m----> 5\u001b[0m add1()\n",
      "Cell \u001b[1;32mIn[74], line 3\u001b[0m, in \u001b[0;36madd1\u001b[1;34m()\u001b[0m\n\u001b[0;32m      1\u001b[0m \u001b[38;5;28;01mdef\u001b[39;00m \u001b[38;5;21madd1\u001b[39m():\n\u001b[0;32m      2\u001b[0m     n1\u001b[38;5;241m=\u001b[39m\u001b[38;5;241m100\u001b[39m\n\u001b[1;32m----> 3\u001b[0m     s1\u001b[38;5;241m=\u001b[39msumm1\u001b[38;5;241m+\u001b[39mn1\n\u001b[0;32m      4\u001b[0m     \u001b[38;5;28mprint\u001b[39m(s1)\n",
      "\u001b[1;31mNameError\u001b[0m: name 'summ1' is not defined"
     ]
    }
   ],
   "source": [
    "def add1():\n",
    "    n1=100\n",
    "    s1=summ1+n1\n",
    "    print(s1)\n",
    "add1()"
   ]
  },
  {
   "cell_type": "code",
   "execution_count": 25,
   "id": "20e7c633-dcb9-4051-8f23-a6c313f4abac",
   "metadata": {},
   "outputs": [
    {
     "ename": "NameError",
     "evalue": "name 'summ1' is not defined",
     "output_type": "error",
     "traceback": [
      "\u001b[1;31m---------------------------------------------------------------------------\u001b[0m",
      "\u001b[1;31mNameError\u001b[0m                                 Traceback (most recent call last)",
      "Cell \u001b[1;32mIn[25], line 5\u001b[0m\n\u001b[0;32m      3\u001b[0m     s1\u001b[38;5;241m=\u001b[39msumm1\u001b[38;5;241m+\u001b[39mn1\n\u001b[0;32m      4\u001b[0m     \u001b[38;5;28mprint\u001b[39m(s1)\n\u001b[1;32m----> 5\u001b[0m add()           \u001b[38;5;66;03m# name error summ1\u001b[39;00m\n\u001b[0;32m      7\u001b[0m \u001b[38;5;66;03m#######################################\u001b[39;00m\n\u001b[0;32m      8\u001b[0m \u001b[38;5;28;01mdef\u001b[39;00m \u001b[38;5;21madd1\u001b[39m():\n",
      "Cell \u001b[1;32mIn[25], line 3\u001b[0m, in \u001b[0;36madd\u001b[1;34m()\u001b[0m\n\u001b[0;32m      1\u001b[0m \u001b[38;5;28;01mdef\u001b[39;00m \u001b[38;5;21madd\u001b[39m():\n\u001b[0;32m      2\u001b[0m     n1\u001b[38;5;241m=\u001b[39m\u001b[38;5;241m100\u001b[39m\n\u001b[1;32m----> 3\u001b[0m     s1\u001b[38;5;241m=\u001b[39msumm1\u001b[38;5;241m+\u001b[39mn1\n\u001b[0;32m      4\u001b[0m     \u001b[38;5;28mprint\u001b[39m(s1)\n",
      "\u001b[1;31mNameError\u001b[0m: name 'summ1' is not defined"
     ]
    }
   ],
   "source": [
    "def add():\n",
    "    n1=100\n",
    "    s1=summ1+n1\n",
    "    print(s1)\n",
    "add()           # name error summ1\n",
    "\n",
    "#######################################\n",
    "def add1():\n",
    "    n1=100\n",
    "    summ1=summ1+n1\n",
    "    print(summ1)\n",
    "add1()           # unbound local error\n",
    "\n",
    "#######################################\n",
    "def add2():\n",
    "    summ1=0\n",
    "    n1=100\n",
    "    s1=summ1+n1\n",
    "    print(s1)\n",
    "add2()            # no error\n",
    "\n",
    "#######################################\n",
    "def add3():\n",
    "    n1=100\n",
    "    summ1=0\n",
    "    summ1=summ1+n1\n",
    "    print(summ1)\n",
    "add3()             # no error   here internally summ1 is initialised so when we assign no error will occur \n",
    "\n",
    "########################################\n",
    "def add4():\n",
    "    n1=100\n",
    "    summ2=100\n",
    "    summ2=summ2+n1\n",
    "    print(summ2)\n",
    "add4()              # no error"
   ]
  },
  {
   "cell_type": "code",
   "execution_count": 23,
   "id": "eaf57bd6-f953-4d87-93c0-4792b20f1548",
   "metadata": {},
   "outputs": [
    {
     "name": "stdout",
     "output_type": "stream",
     "text": [
      "200\n"
     ]
    }
   ],
   "source": [
    "def add4():\n",
    "    n1=100\n",
    "    summ2=100\n",
    "    summ2=summ2+n1\n",
    "    print(summ2)\n",
    "add4()"
   ]
  },
  {
   "cell_type": "code",
   "execution_count": 21,
   "id": "5f9ca99e-13e1-4fa4-a6f5-8ba8ad9b779c",
   "metadata": {},
   "outputs": [
    {
     "name": "stdout",
     "output_type": "stream",
     "text": [
      "100\n"
     ]
    }
   ],
   "source": [
    "def add3():\n",
    "    n1=100\n",
    "    summ1=0\n",
    "    summ1=summ1+n1\n",
    "    print(summ1)\n",
    "add3()             # no error\n"
   ]
  },
  {
   "cell_type": "code",
   "execution_count": 31,
   "id": "718831c2-4bd8-4f85-80dc-374b914da5f3",
   "metadata": {},
   "outputs": [
    {
     "name": "stdout",
     "output_type": "stream",
     "text": [
      "60 20.0\n"
     ]
    }
   ],
   "source": [
    "def avg(a,b,c):\n",
    "    ADD=a+b+c\n",
    "    AVG1=ADD/3\n",
    "    print(ADD,AVG1)\n",
    "avg(10,20,30)"
   ]
  },
  {
   "cell_type": "code",
   "execution_count": 33,
   "id": "5ba6dfc9-285a-4204-9f1e-2f15fe6061d7",
   "metadata": {},
   "outputs": [
    {
     "ename": "NameError",
     "evalue": "name 'AVG1' is not defined",
     "output_type": "error",
     "traceback": [
      "\u001b[1;31m---------------------------------------------------------------------------\u001b[0m",
      "\u001b[1;31mNameError\u001b[0m                                 Traceback (most recent call last)",
      "Cell \u001b[1;32mIn[33], line 1\u001b[0m\n\u001b[1;32m----> 1\u001b[0m AVG1\n",
      "\u001b[1;31mNameError\u001b[0m: name 'AVG1' is not defined"
     ]
    }
   ],
   "source": [
    "AVG1"
   ]
  },
  {
   "cell_type": "code",
   "execution_count": 35,
   "id": "d056f61b-2dfc-46c3-9c33-8e580f71071b",
   "metadata": {},
   "outputs": [
    {
     "ename": "NameError",
     "evalue": "name 'ADD' is not defined",
     "output_type": "error",
     "traceback": [
      "\u001b[1;31m---------------------------------------------------------------------------\u001b[0m",
      "\u001b[1;31mNameError\u001b[0m                                 Traceback (most recent call last)",
      "Cell \u001b[1;32mIn[35], line 1\u001b[0m\n\u001b[1;32m----> 1\u001b[0m ADD\n",
      "\u001b[1;31mNameError\u001b[0m: name 'ADD' is not defined"
     ]
    }
   ],
   "source": [
    "ADD"
   ]
  },
  {
   "cell_type": "code",
   "execution_count": 37,
   "id": "b6d57b3d-a3e0-4116-b1db-9f1789e7ad84",
   "metadata": {},
   "outputs": [
    {
     "ename": "NameError",
     "evalue": "name 'ADD' is not defined",
     "output_type": "error",
     "traceback": [
      "\u001b[1;31m---------------------------------------------------------------------------\u001b[0m",
      "\u001b[1;31mNameError\u001b[0m                                 Traceback (most recent call last)",
      "Cell \u001b[1;32mIn[37], line 1\u001b[0m\n\u001b[1;32m----> 1\u001b[0m ADD,AVG1\n",
      "\u001b[1;31mNameError\u001b[0m: name 'ADD' is not defined"
     ]
    }
   ],
   "source": [
    "ADD,AVG1"
   ]
  },
  {
   "cell_type": "code",
   "execution_count": 39,
   "id": "1818592c-01a8-49eb-bddd-4a3a44789e86",
   "metadata": {},
   "outputs": [
    {
     "name": "stdout",
     "output_type": "stream",
     "text": [
      "150 50.0\n"
     ]
    }
   ],
   "source": [
    "def avg(a,b,c):\n",
    "    global ADD\n",
    "    global AVG1\n",
    "    ADD=a+b+c\n",
    "    AVG1=ADD/3\n",
    "    print(ADD,AVG1)\n",
    "avg(40,50,60)"
   ]
  },
  {
   "cell_type": "code",
   "execution_count": 53,
   "id": "86c7a0e1-b81f-44bc-9a58-254c7026ca5a",
   "metadata": {},
   "outputs": [
    {
     "name": "stdout",
     "output_type": "stream",
     "text": [
      "150 50.0\n"
     ]
    }
   ],
   "source": [
    "def avg(a,b,c):\n",
    "    global ADD,AVG1\n",
    "    ADD=a+b+c\n",
    "    AVG1=ADD/3\n",
    "    print(ADD,AVG1)\n",
    "avg(40,50,60)"
   ]
  },
  {
   "cell_type": "code",
   "execution_count": 90,
   "id": "4b3240f5-273a-4735-ab95-f7ba5e4f6e50",
   "metadata": {},
   "outputs": [
    {
     "data": {
      "text/plain": [
       "(50.0, 150)"
      ]
     },
     "execution_count": 90,
     "metadata": {},
     "output_type": "execute_result"
    }
   ],
   "source": [
    "AVG1,ADD"
   ]
  },
  {
   "cell_type": "code",
   "execution_count": 55,
   "id": "54b25164-0b16-45a5-ba71-dc25de3ee292",
   "metadata": {},
   "outputs": [
    {
     "name": "stdout",
     "output_type": "stream",
     "text": [
      "150 50.0\n"
     ]
    }
   ],
   "source": [
    "def avg(a,b,c):\n",
    "    ADD=a+b+c\n",
    "    AVG1=ADD/3\n",
    "    print(ADD,AVG1)\n",
    "avg(40,50,60)\n",
    "global ADD,AVG1"
   ]
  },
  {
   "cell_type": "code",
   "execution_count": 57,
   "id": "772befaa-a933-40bb-a606-a1f10b498c6e",
   "metadata": {},
   "outputs": [
    {
     "name": "stdout",
     "output_type": "stream",
     "text": [
      "150 50.0\n"
     ]
    }
   ],
   "source": [
    "def avg(a,b,c):\n",
    "    ADD=a+b+c\n",
    "    AVG1=ADD/3\n",
    "    print(ADD,AVG1)\n",
    "global ADD,AVG1\n",
    "avg(40,50,60)\n"
   ]
  },
  {
   "cell_type": "code",
   "execution_count": 59,
   "id": "f5b67980-9096-4f91-9c26-7ada9d2e0872",
   "metadata": {},
   "outputs": [
    {
     "name": "stdout",
     "output_type": "stream",
     "text": [
      "a: 100\n",
      "b: 200\n",
      "c: 3000\n",
      "the summation of 100 , 200 and 3000 is: 3300\n"
     ]
    }
   ],
   "source": [
    "c=3000\n",
    "def add(a,b):\n",
    "    print('a:',a)\n",
    "    print('b:',b)\n",
    "    print('c:',c)\n",
    "    summ=a+b+c\n",
    "    print(f'the summation of {a} , {b} and {c} is: {summ}')\n",
    "add(100,200)"
   ]
  },
  {
   "cell_type": "code",
   "execution_count": 63,
   "id": "107687aa-470a-4501-aa7d-f0b77987be3f",
   "metadata": {},
   "outputs": [
    {
     "name": "stdout",
     "output_type": "stream",
     "text": [
      "a: 100\n",
      "b: 200\n",
      "c: 5000\n",
      "the summation of 100 , 200 and 5000 is: 5300\n"
     ]
    }
   ],
   "source": [
    "c=3000\n",
    "def add(a,b):\n",
    "    print('a:',a)\n",
    "    print('b:',b)\n",
    "    print('c:',c)\n",
    "    summ=a+b+c\n",
    "    print(f'the summation of {a} , {b} and {c} is: {summ}')\n",
    "c=5000\n",
    "add(100,200)\n",
    "\n",
    "# st-1  c=3000\n",
    "#st-2   def  no c\n",
    "# st-3  c=5000\n",
    "#st-4   call no c\n",
    "#st-5    run  no c    so, carry forward from step-3, c=5000"
   ]
  },
  {
   "cell_type": "code",
   "execution_count": null,
   "id": "83f8cf45-b63f-41cf-94b8-a2cf787b4961",
   "metadata": {},
   "outputs": [],
   "source": []
  }
 ],
 "metadata": {
  "kernelspec": {
   "display_name": "Python [conda env:base] *",
   "language": "python",
   "name": "conda-base-py"
  },
  "language_info": {
   "codemirror_mode": {
    "name": "ipython",
    "version": 3
   },
   "file_extension": ".py",
   "mimetype": "text/x-python",
   "name": "python",
   "nbconvert_exporter": "python",
   "pygments_lexer": "ipython3",
   "version": "3.12.7"
  }
 },
 "nbformat": 4,
 "nbformat_minor": 5
}
